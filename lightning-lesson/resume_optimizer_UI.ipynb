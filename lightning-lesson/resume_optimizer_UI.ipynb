{
 "cells": [
  {
   "cell_type": "markdown",
   "id": "37193417-4ed8-4fb1-932f-90d1f6ed559e",
   "metadata": {},
   "source": [
    "# Create Gradio UI for Resume Optimizer\n",
    "\n",
    "Code authored by: Shaw Talebi\n",
    "\n",
    "[Recording link](https://youtu.be/R5WXaxmb6m4)"
   ]
  },
  {
   "cell_type": "markdown",
   "id": "4ea92422-a6f6-402a-9fff-a0478b39df0e",
   "metadata": {},
   "source": [
    "### imports"
   ]
  },
  {
   "cell_type": "code",
   "execution_count": 1,
   "id": "752623ce-18cb-48d1-9616-b7ab31d2d31c",
   "metadata": {},
   "outputs": [],
   "source": [
    "import gradio as gr\n",
    "from functions import *"
   ]
  },
  {
   "cell_type": "markdown",
   "id": "086cb5c2-703e-4e8b-b5bd-a3e122c05e7a",
   "metadata": {},
   "source": [
    "### UI"
   ]
  },
  {
   "cell_type": "code",
   "execution_count": 2,
   "id": "4c0896bc-f276-4c3b-a0d2-e886e2b39019",
   "metadata": {},
   "outputs": [
    {
     "name": "stdout",
     "output_type": "stream",
     "text": [
      "* Running on local URL:  http://127.0.0.1:7860\n",
      "\n",
      "To create a public link, set `share=True` in `launch()`.\n"
     ]
    },
    {
     "data": {
      "text/html": [
       "<div><iframe src=\"http://127.0.0.1:7860/\" width=\"100%\" height=\"500\" allow=\"autoplay; camera; microphone; clipboard-read; clipboard-write;\" frameborder=\"0\" allowfullscreen></iframe></div>"
      ],
      "text/plain": [
       "<IPython.core.display.HTML object>"
      ]
     },
     "metadata": {},
     "output_type": "display_data"
    },
    {
     "data": {
      "text/plain": []
     },
     "execution_count": 2,
     "metadata": {},
     "output_type": "execute_result"
    }
   ],
   "source": [
    "with gr.Blocks() as app:\n",
    "    # create header and app description\n",
    "    gr.Markdown(\"# Resume Optimizer 📄\")\n",
    "    gr.Markdown(\"Upload your resume, paste the job description, and get actionable insights!\")\n",
    "\n",
    "    # gather inputs\n",
    "    with gr.Row():\n",
    "        resume_input = gr.File(label=\"Upload Your Resume (.md)\")    \n",
    "        jd_input = gr.Textbox(label=\"Paste the Job Description Here\", lines=9, interactive=True, placeholder=\"Paste job description...\")\n",
    "    run_button = gr.Button(\"Optimize Resume 🤖\")\n",
    "\n",
    "    # display outputs\n",
    "    output_resume_md = gr.Markdown(label=\"New Resume\")\n",
    "    output_suggestions = gr.Markdown(label=\"Suggestions\")\n",
    "\n",
    "    # editing results\n",
    "    output_resume = gr.Textbox(label=\"Edit resume and export!\", interactive=True)\n",
    "    export_button = gr.Button(\"Export Resume as PDF 🚀\")\n",
    "    export_result = gr.Markdown(label=\"Export Result\")\n",
    "    \n",
    "    # Event binding\n",
    "    run_button.click(process_resume, inputs=[resume_input, jd_input], outputs=[output_resume_md, output_resume, output_suggestions])\n",
    "    export_button.click(export_resume, inputs=[output_resume], outputs=[export_result])\n",
    "\n",
    "# Launch the app\n",
    "app.launch()"
   ]
  },
  {
   "cell_type": "code",
   "execution_count": null,
   "id": "34550d21-fd4a-4a0d-926f-e27fc49d73b1",
   "metadata": {},
   "outputs": [],
   "source": []
  },
  {
   "cell_type": "code",
   "execution_count": null,
   "id": "4e6a1908-d1a2-4e51-9548-5dc048aa2397",
   "metadata": {},
   "outputs": [],
   "source": []
  }
 ],
 "metadata": {
  "kernelspec": {
   "display_name": "Python 3 (ipykernel)",
   "language": "python",
   "name": "python3"
  },
  "language_info": {
   "codemirror_mode": {
    "name": "ipython",
    "version": 3
   },
   "file_extension": ".py",
   "mimetype": "text/x-python",
   "name": "python",
   "nbconvert_exporter": "python",
   "pygments_lexer": "ipython3",
   "version": "3.12.2"
  }
 },
 "nbformat": 4,
 "nbformat_minor": 5
}
